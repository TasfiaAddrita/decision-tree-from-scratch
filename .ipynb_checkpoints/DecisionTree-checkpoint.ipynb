{
 "cells": [
  {
   "cell_type": "code",
   "execution_count": 2,
   "metadata": {},
   "outputs": [],
   "source": [
    "import pandas as pd\n",
    "import numpy as np\n",
    "import matplotlib.pyplot as plt\n",
    "from sklearn import datasets"
   ]
  },
  {
   "cell_type": "code",
   "execution_count": 3,
   "metadata": {},
   "outputs": [],
   "source": [
    "class Node:\n",
    "    def __init__(self):\n",
    "        self.gini = None\n",
    "        self.samples = None"
   ]
  },
  {
   "cell_type": "code",
   "execution_count": 39,
   "metadata": {},
   "outputs": [],
   "source": [
    "class DecisionTreeClassifier:\n",
    "    def __init__(self):\n",
    "        self.X_train = None\n",
    "        self.y_train = None\n",
    "\n",
    "#     def _mean_squared_error(self, feature):\n",
    "#         \"\"\"\n",
    "#         Use this method if target values are continuous.\n",
    "#         \"\"\"\n",
    "#         X_feature = self.X_train[feature]\n",
    "#         plt.scatter(X_feature, self.y_train)\n",
    "#         pass\n",
    "        \n",
    "    def _gini_impurity(self, feature, threshold):\n",
    "        \"\"\"\n",
    "        Determines the probability of classifying a point incorrectly.\n",
    "        Use this method if the target values are classifications.\n",
    "        \"\"\"\n",
    "        def equation(class_count, thres_count):\n",
    "            return 1 - (class_count/thres_count) ** 2\n",
    "        \n",
    "        # problem: there are 3 classes for the iris dataset\n",
    "        \n",
    "        below_thres = {}\n",
    "        bt_count = 0\n",
    "        \n",
    "        above_thres = {}\n",
    "        at_count = 0\n",
    "        \n",
    "        for i, point in enumerate(self.X_train[feature]):\n",
    "            point_class = self.y_train[i]\n",
    "            if point <= threshold:\n",
    "                if point_class not in below_thres:\n",
    "                    below_thres[point_class] = 0\n",
    "                below_thres[point_class] += 1\n",
    "                bt_count += 1\n",
    "            else:\n",
    "                if point_class not in above_thres:\n",
    "                    above_thres[point_class] = 0\n",
    "                above_thres[point_class] += 1\n",
    "                at_count += 1\n",
    "\n",
    "        gini_bt = None\n",
    "        gini_at = None\n",
    "        \n",
    "        for bt_class_count, at_class_count in zip(below_thres.values(), above_thres.values()):\n",
    "            if gini_bt is None and gini_at is None:\n",
    "                gini_bt = equation(bt_class_count, bt_count)\n",
    "                gini_at = equation(at_class_count, at_count)\n",
    "            else:\n",
    "                gini_bt -= equation(bt_class_count, bt_count)\n",
    "                gini_at -= equation(at_class_count, at_count)\n",
    "        \n",
    "        overall_gini = (bt_count * gini_bt) + (at_count * gini_at)\n",
    "        return overall_gini\n",
    "                    \n",
    "    \n",
    "    def _get_optimal_threshold(self, feature):\n",
    "        feature_values = sorted(self.X_train[feature].unique())\n",
    "        min_gini = 0\n",
    "        optimal_thres = 0\n",
    "        for i in range(len(feature_values) - 1):\n",
    "            threshold = (feature_values[i] + feature_values[i + 1]) / 2\n",
    "            gini = self._gini_impurity(feature, threshold)\n",
    "            if gini < min_gini:\n",
    "                min_gini = gini\n",
    "                optimal_thres = threshold\n",
    "        return optimal_thres\n",
    "\n",
    "    def _confusion_matrix(self, y_pred, y_test):\n",
    "        pass\n",
    "\n",
    "    def fit(self, X_train, y_train):\n",
    "        self.X_train = X_train\n",
    "        self.y_train = y_train\n",
    "        pass\n",
    "\n",
    "    def predict(self, x_test):\n",
    "        pass\n",
    "\n",
    "    def visualize(self):\n",
    "        pass\n",
    "\n",
    "    def evaluate(self):\n",
    "        pass\n",
    "\n",
    "    def compare_with_sklearn(self):\n",
    "        pass"
   ]
  },
  {
   "cell_type": "code",
   "execution_count": 41,
   "metadata": {},
   "outputs": [
    {
     "data": {
      "text/plain": [
       "3.15"
      ]
     },
     "execution_count": 41,
     "metadata": {},
     "output_type": "execute_result"
    }
   ],
   "source": [
    "# NOTES:\n",
    "# - use numpy instead of pandas for speed\n",
    "\n",
    "from sklearn.model_selection import train_test_split\n",
    "\n",
    "iris = datasets.load_iris()\n",
    "df = pd.DataFrame(iris.data)\n",
    "\n",
    "df.columns = iris.feature_names\n",
    "X = df[df.columns]\n",
    "\n",
    "df[\"species\"] = iris.target\n",
    "y = df[\"species\"].values\n",
    "\n",
    "X_train, X_test, y_train, y_test = train_test_split(X, y, test_size=0.3)\n",
    "\n",
    "dt = DecisionTreeClassifier()\n",
    "dt.fit(X, y)\n",
    "dt._get_optimal_threshold(\"petal length (cm)\")"
   ]
  },
  {
   "cell_type": "code",
   "execution_count": 45,
   "metadata": {},
   "outputs": [
    {
     "data": {
      "text/plain": [
       "True"
      ]
     },
     "execution_count": 45,
     "metadata": {},
     "output_type": "execute_result"
    }
   ],
   "source": [
    "from sklearn.tree import DecisionTreeClassifier\n",
    "from sklearn.tree import export_graphviz\n",
    "import pydotplus\n",
    "\n",
    "clf = DecisionTreeClassifier(criterion='gini')\n",
    "clf.fit(X_train, y_train)\n",
    "dot_data = export_graphviz(clf, out_file=None, feature_names=['sepal length', 'sepal width', 'petal length', 'petal width'])\n",
    "\n",
    "graph = pydotplus.graph_from_dot_data(dot_data)\n",
    "graph.write_png('sklearn_iris_tree.png')"
   ]
  },
  {
   "cell_type": "code",
   "execution_count": 42,
   "metadata": {},
   "outputs": [
    {
     "data": {
      "text/plain": [
       "Index(['sepal length (cm)', 'sepal width (cm)', 'petal length (cm)',\n",
       "       'petal width (cm)', 'species'],\n",
       "      dtype='object')"
      ]
     },
     "execution_count": 42,
     "metadata": {},
     "output_type": "execute_result"
    }
   ],
   "source": [
    "df.columns"
   ]
  },
  {
   "cell_type": "code",
   "execution_count": null,
   "metadata": {},
   "outputs": [],
   "source": []
  }
 ],
 "metadata": {
  "kernelspec": {
   "display_name": "Python 3",
   "language": "python",
   "name": "python3"
  },
  "language_info": {
   "codemirror_mode": {
    "name": "ipython",
    "version": 3
   },
   "file_extension": ".py",
   "mimetype": "text/x-python",
   "name": "python",
   "nbconvert_exporter": "python",
   "pygments_lexer": "ipython3",
   "version": "3.7.7"
  }
 },
 "nbformat": 4,
 "nbformat_minor": 4
}
